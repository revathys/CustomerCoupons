{
 "cells": [
  {
   "cell_type": "markdown",
   "metadata": {
    "id": "CcUT6Fon_qRE"
   },
   "source": [
    "### Required Assignment 5.1: Will the Customer Accept the Coupon?\n",
    "\n",
    "**Context**\n",
    "\n",
    "Imagine driving through town and a coupon is delivered to your cell phone for a restaurant near where you are driving. Would you accept that coupon and take a short detour to the restaurant? Would you accept the coupon but use it on a subsequent trip? Would you ignore the coupon entirely? What if the coupon was for a bar instead of a restaurant? What about a coffee house? Would you accept a bar coupon with a minor passenger in the car? What about if it was just you and your partner in the car? Would weather impact the rate of acceptance? What about the time of day?\n",
    "\n",
    "Obviously, proximity to the business is a factor on whether the coupon is delivered to the driver or not, but what are the factors that determine whether a driver accepts the coupon once it is delivered to them? How would you determine whether a driver is likely to accept a coupon?\n",
    "\n",
    "**Overview**\n",
    "\n",
    "The goal of this project is to use what you know about visualizations and probability distributions to distinguish between customers who accepted a driving coupon versus those that did not.\n",
    "\n",
    "**Data**\n",
    "\n",
    "This data comes to us from the UCI Machine Learning repository and was collected via a survey on Amazon Mechanical Turk. The survey describes different driving scenarios including the destination, current time, weather, passenger, etc., and then ask the person whether he will accept the coupon if he is the driver. Answers that the user will drive there ‘right away’ or ‘later before the coupon expires’ are labeled as ‘Y = 1’ and answers ‘no, I do not want the coupon’ are labeled as ‘Y = 0’.  There are five different types of coupons -- less expensive restaurants (under \\$20), coffee houses, carry out & take away, bar, and more expensive restaurants (\\$20 - $50)."
   ]
  },
  {
   "cell_type": "markdown",
   "metadata": {
    "id": "1wORvMBJ_qRF"
   },
   "source": [
    "**Deliverables**\n",
    "\n",
    "Your final product should be a brief report that highlights the differences between customers who did and did not accept the coupons.  To explore the data you will utilize your knowledge of plotting, statistical summaries, and visualization using Python. You will publish your findings in a public facing github repository as your first portfolio piece.\n",
    "\n",
    "\n",
    "\n"
   ]
  },
  {
   "cell_type": "markdown",
   "metadata": {
    "id": "pG6_Ym6q_qRG"
   },
   "source": [
    "### Data Description\n",
    "Keep in mind that these values mentioned below are average values.\n",
    "\n",
    "The attributes of this data set include:\n",
    "1. User attributes\n",
    "    -  Gender: male, female\n",
    "    -  Age: below 21, 21 to 25, 26 to 30, etc.\n",
    "    -  Marital Status: single, married partner, unmarried partner, or widowed\n",
    "    -  Number of children: 0, 1, or more than 1\n",
    "    -  Education: high school, bachelors degree, associates degree, or graduate degree\n",
    "    -  Occupation: architecture & engineering, business & financial, etc.\n",
    "    -  Annual income: less than \\\\$12500, \\\\$12500 - \\\\$24999, \\\\$25000 - \\\\$37499, etc.\n",
    "    -  Number of times that he/she goes to a bar: 0, less than 1, 1 to 3, 4 to 8 or greater than 8\n",
    "    -  Number of times that he/she buys takeaway food: 0, less than 1, 1 to 3, 4 to 8 or greater\n",
    "    than 8\n",
    "    -  Number of times that he/she goes to a coffee house: 0, less than 1, 1 to 3, 4 to 8 or\n",
    "    greater than 8\n",
    "    -  Number of times that he/she eats at a restaurant with average expense less than \\\\$20 per\n",
    "    person: 0, less than 1, 1 to 3, 4 to 8 or greater than 8\n",
    "    -  Number of times that he/she goes to a bar: 0, less than 1, 1 to 3, 4 to 8 or greater than 8\n",
    "    \n",
    "\n",
    "2. Contextual attributes\n",
    "    - Driving destination: home, work, or no urgent destination\n",
    "    - Location of user, coupon and destination: we provide a map to show the geographical\n",
    "    location of the user, destination, and the venue, and we mark the distance between each\n",
    "    two places with time of driving. The user can see whether the venue is in the same\n",
    "    direction as the destination.\n",
    "    - Weather: sunny, rainy, or snowy\n",
    "    - Temperature: 30F, 55F, or 80F\n",
    "    - Time: 10AM, 2PM, or 6PM\n",
    "    - Passenger: alone, partner, kid(s), or friend(s)\n",
    "\n",
    "\n",
    "3. Coupon attributes\n",
    "    - time before it expires: 2 hours or one day"
   ]
  },
  {
   "cell_type": "code",
   "execution_count": 1,
   "metadata": {
    "id": "dzNoP3o__qRG"
   },
   "outputs": [],
   "source": [
    "import matplotlib.pyplot as plt\n",
    "import seaborn as sns\n",
    "import pandas as pd\n",
    "import numpy as np"
   ]
  },
  {
   "cell_type": "markdown",
   "metadata": {
    "id": "Ct8pI1uE_qRG"
   },
   "source": [
    "### Problems\n",
    "\n",
    "Use the prompts below to get started with your data analysis.  \n",
    "\n",
    "1. Read in the `coupons.csv` file.\n",
    "\n",
    "\n"
   ]
  },
  {
   "cell_type": "code",
   "execution_count": 2,
   "metadata": {
    "id": "X0vbffYg_qRH"
   },
   "outputs": [],
   "source": [
    "data = pd.read_csv('data/coupons.csv')"
   ]
  },
  {
   "cell_type": "code",
   "execution_count": 3,
   "metadata": {
    "id": "TXofQ_DF_qRH",
    "outputId": "2fc96a2c-1112-4b54-f24f-dbb9bc88abfb"
   },
   "outputs": [
    {
     "data": {
      "text/html": [
       "<div>\n",
       "<style scoped>\n",
       "    .dataframe tbody tr th:only-of-type {\n",
       "        vertical-align: middle;\n",
       "    }\n",
       "\n",
       "    .dataframe tbody tr th {\n",
       "        vertical-align: top;\n",
       "    }\n",
       "\n",
       "    .dataframe thead th {\n",
       "        text-align: right;\n",
       "    }\n",
       "</style>\n",
       "<table border=\"1\" class=\"dataframe\">\n",
       "  <thead>\n",
       "    <tr style=\"text-align: right;\">\n",
       "      <th></th>\n",
       "      <th>destination</th>\n",
       "      <th>passanger</th>\n",
       "      <th>weather</th>\n",
       "      <th>temperature</th>\n",
       "      <th>time</th>\n",
       "      <th>coupon</th>\n",
       "      <th>expiration</th>\n",
       "      <th>gender</th>\n",
       "      <th>age</th>\n",
       "      <th>maritalStatus</th>\n",
       "      <th>...</th>\n",
       "      <th>CoffeeHouse</th>\n",
       "      <th>CarryAway</th>\n",
       "      <th>RestaurantLessThan20</th>\n",
       "      <th>Restaurant20To50</th>\n",
       "      <th>toCoupon_GEQ5min</th>\n",
       "      <th>toCoupon_GEQ15min</th>\n",
       "      <th>toCoupon_GEQ25min</th>\n",
       "      <th>direction_same</th>\n",
       "      <th>direction_opp</th>\n",
       "      <th>Y</th>\n",
       "    </tr>\n",
       "  </thead>\n",
       "  <tbody>\n",
       "    <tr>\n",
       "      <th>0</th>\n",
       "      <td>No Urgent Place</td>\n",
       "      <td>Alone</td>\n",
       "      <td>Sunny</td>\n",
       "      <td>55</td>\n",
       "      <td>2PM</td>\n",
       "      <td>Restaurant(&lt;20)</td>\n",
       "      <td>1d</td>\n",
       "      <td>Female</td>\n",
       "      <td>21</td>\n",
       "      <td>Unmarried partner</td>\n",
       "      <td>...</td>\n",
       "      <td>never</td>\n",
       "      <td>NaN</td>\n",
       "      <td>4~8</td>\n",
       "      <td>1~3</td>\n",
       "      <td>1</td>\n",
       "      <td>0</td>\n",
       "      <td>0</td>\n",
       "      <td>0</td>\n",
       "      <td>1</td>\n",
       "      <td>1</td>\n",
       "    </tr>\n",
       "    <tr>\n",
       "      <th>1</th>\n",
       "      <td>No Urgent Place</td>\n",
       "      <td>Friend(s)</td>\n",
       "      <td>Sunny</td>\n",
       "      <td>80</td>\n",
       "      <td>10AM</td>\n",
       "      <td>Coffee House</td>\n",
       "      <td>2h</td>\n",
       "      <td>Female</td>\n",
       "      <td>21</td>\n",
       "      <td>Unmarried partner</td>\n",
       "      <td>...</td>\n",
       "      <td>never</td>\n",
       "      <td>NaN</td>\n",
       "      <td>4~8</td>\n",
       "      <td>1~3</td>\n",
       "      <td>1</td>\n",
       "      <td>0</td>\n",
       "      <td>0</td>\n",
       "      <td>0</td>\n",
       "      <td>1</td>\n",
       "      <td>0</td>\n",
       "    </tr>\n",
       "    <tr>\n",
       "      <th>2</th>\n",
       "      <td>No Urgent Place</td>\n",
       "      <td>Friend(s)</td>\n",
       "      <td>Sunny</td>\n",
       "      <td>80</td>\n",
       "      <td>10AM</td>\n",
       "      <td>Carry out &amp; Take away</td>\n",
       "      <td>2h</td>\n",
       "      <td>Female</td>\n",
       "      <td>21</td>\n",
       "      <td>Unmarried partner</td>\n",
       "      <td>...</td>\n",
       "      <td>never</td>\n",
       "      <td>NaN</td>\n",
       "      <td>4~8</td>\n",
       "      <td>1~3</td>\n",
       "      <td>1</td>\n",
       "      <td>1</td>\n",
       "      <td>0</td>\n",
       "      <td>0</td>\n",
       "      <td>1</td>\n",
       "      <td>1</td>\n",
       "    </tr>\n",
       "    <tr>\n",
       "      <th>3</th>\n",
       "      <td>No Urgent Place</td>\n",
       "      <td>Friend(s)</td>\n",
       "      <td>Sunny</td>\n",
       "      <td>80</td>\n",
       "      <td>2PM</td>\n",
       "      <td>Coffee House</td>\n",
       "      <td>2h</td>\n",
       "      <td>Female</td>\n",
       "      <td>21</td>\n",
       "      <td>Unmarried partner</td>\n",
       "      <td>...</td>\n",
       "      <td>never</td>\n",
       "      <td>NaN</td>\n",
       "      <td>4~8</td>\n",
       "      <td>1~3</td>\n",
       "      <td>1</td>\n",
       "      <td>1</td>\n",
       "      <td>0</td>\n",
       "      <td>0</td>\n",
       "      <td>1</td>\n",
       "      <td>0</td>\n",
       "    </tr>\n",
       "    <tr>\n",
       "      <th>4</th>\n",
       "      <td>No Urgent Place</td>\n",
       "      <td>Friend(s)</td>\n",
       "      <td>Sunny</td>\n",
       "      <td>80</td>\n",
       "      <td>2PM</td>\n",
       "      <td>Coffee House</td>\n",
       "      <td>1d</td>\n",
       "      <td>Female</td>\n",
       "      <td>21</td>\n",
       "      <td>Unmarried partner</td>\n",
       "      <td>...</td>\n",
       "      <td>never</td>\n",
       "      <td>NaN</td>\n",
       "      <td>4~8</td>\n",
       "      <td>1~3</td>\n",
       "      <td>1</td>\n",
       "      <td>1</td>\n",
       "      <td>0</td>\n",
       "      <td>0</td>\n",
       "      <td>1</td>\n",
       "      <td>0</td>\n",
       "    </tr>\n",
       "  </tbody>\n",
       "</table>\n",
       "<p>5 rows × 26 columns</p>\n",
       "</div>"
      ],
      "text/plain": [
       "       destination  passanger weather  temperature  time  \\\n",
       "0  No Urgent Place      Alone   Sunny           55   2PM   \n",
       "1  No Urgent Place  Friend(s)   Sunny           80  10AM   \n",
       "2  No Urgent Place  Friend(s)   Sunny           80  10AM   \n",
       "3  No Urgent Place  Friend(s)   Sunny           80   2PM   \n",
       "4  No Urgent Place  Friend(s)   Sunny           80   2PM   \n",
       "\n",
       "                  coupon expiration  gender age      maritalStatus  ...  \\\n",
       "0        Restaurant(<20)         1d  Female  21  Unmarried partner  ...   \n",
       "1           Coffee House         2h  Female  21  Unmarried partner  ...   \n",
       "2  Carry out & Take away         2h  Female  21  Unmarried partner  ...   \n",
       "3           Coffee House         2h  Female  21  Unmarried partner  ...   \n",
       "4           Coffee House         1d  Female  21  Unmarried partner  ...   \n",
       "\n",
       "   CoffeeHouse CarryAway RestaurantLessThan20 Restaurant20To50  \\\n",
       "0        never       NaN                  4~8              1~3   \n",
       "1        never       NaN                  4~8              1~3   \n",
       "2        never       NaN                  4~8              1~3   \n",
       "3        never       NaN                  4~8              1~3   \n",
       "4        never       NaN                  4~8              1~3   \n",
       "\n",
       "  toCoupon_GEQ5min toCoupon_GEQ15min toCoupon_GEQ25min direction_same  \\\n",
       "0                1                 0                 0              0   \n",
       "1                1                 0                 0              0   \n",
       "2                1                 1                 0              0   \n",
       "3                1                 1                 0              0   \n",
       "4                1                 1                 0              0   \n",
       "\n",
       "  direction_opp  Y  \n",
       "0             1  1  \n",
       "1             1  0  \n",
       "2             1  1  \n",
       "3             1  0  \n",
       "4             1  0  \n",
       "\n",
       "[5 rows x 26 columns]"
      ]
     },
     "execution_count": 3,
     "metadata": {},
     "output_type": "execute_result"
    }
   ],
   "source": [
    "data.head()"
   ]
  },
  {
   "cell_type": "markdown",
   "metadata": {
    "id": "GcDs78ZH_qRH"
   },
   "source": [
    "2. Investigate the dataset for missing or problematic data."
   ]
  },
  {
   "cell_type": "code",
   "execution_count": 4,
   "metadata": {
    "id": "6CwL6oWj_qRH"
   },
   "outputs": [
    {
     "data": {
      "text/plain": [
       "Bar\n",
       "never    5197\n",
       "less1    3482\n",
       "1~3      2473\n",
       "4~8      1076\n",
       "gt8       349\n",
       "Name: count, dtype: int64"
      ]
     },
     "execution_count": 4,
     "metadata": {},
     "output_type": "execute_result"
    }
   ],
   "source": [
    "data.isna().sum()\n",
    "#data['car'].value_counts()\n",
    "data['Bar'].value_counts()\n",
    "#data['CoffeeHouse'].value_counts()\n",
    "#data['CarryAway'].value_counts()\n",
    "#data['RestaurantLessThan20'].value_counts()\n",
    "#data['Restaurant20To50'].value_counts()"
   ]
  },
  {
   "cell_type": "markdown",
   "metadata": {
    "id": "bSdVSpYB_qRH"
   },
   "source": [
    "3. Decide what to do about your missing data -- drop, replace, other..."
   ]
  },
  {
   "cell_type": "code",
   "execution_count": 5,
   "metadata": {
    "id": "tyvoAC5F_qRI"
   },
   "outputs": [
    {
     "name": "stdout",
     "output_type": "stream",
     "text": [
      "<class 'pandas.core.frame.DataFrame'>\n",
      "Index: 12577 entries, 0 to 12683\n",
      "Data columns (total 26 columns):\n",
      " #   Column                Non-Null Count  Dtype \n",
      "---  ------                --------------  ----- \n",
      " 0   destination           12577 non-null  object\n",
      " 1   passanger             12577 non-null  object\n",
      " 2   weather               12577 non-null  object\n",
      " 3   temperature           12577 non-null  int64 \n",
      " 4   time                  12577 non-null  object\n",
      " 5   coupon                12577 non-null  object\n",
      " 6   expiration            12577 non-null  object\n",
      " 7   gender                12577 non-null  object\n",
      " 8   age                   12577 non-null  int64 \n",
      " 9   maritalStatus         12577 non-null  object\n",
      " 10  has_children          12577 non-null  int64 \n",
      " 11  education             12577 non-null  object\n",
      " 12  occupation            12577 non-null  object\n",
      " 13  income                12577 non-null  object\n",
      " 14  car                   108 non-null    object\n",
      " 15  Bar                   12577 non-null  object\n",
      " 16  CoffeeHouse           12402 non-null  object\n",
      " 17  CarryAway             12468 non-null  object\n",
      " 18  RestaurantLessThan20  12489 non-null  object\n",
      " 19  Restaurant20To50      12430 non-null  object\n",
      " 20  toCoupon_GEQ5min      12577 non-null  int64 \n",
      " 21  toCoupon_GEQ15min     12577 non-null  int64 \n",
      " 22  toCoupon_GEQ25min     12577 non-null  int64 \n",
      " 23  direction_same        12577 non-null  int64 \n",
      " 24  direction_opp         12577 non-null  int64 \n",
      " 25  Y                     12577 non-null  int64 \n",
      "dtypes: int64(9), object(17)\n",
      "memory usage: 2.6+ MB\n"
     ]
    }
   ],
   "source": [
    "#data = data.dropna()\n",
    "data_bar =  data.copy()\n",
    "data_bar = data_bar.dropna(subset=['Bar', 'age'])\n",
    "data_bar['age'] = data_bar['age'].astype(str)\n",
    "data_bar['age'] = data_bar['age'].str.replace('50plus','50')\n",
    "data_bar['age'] = data_bar['age'].str.replace('below21','20')\n",
    "data_bar['age'] = data_bar['age'].astype(int)\n",
    "data_bar.info()"
   ]
  },
  {
   "cell_type": "markdown",
   "metadata": {
    "id": "YE6oJbXd_qRI"
   },
   "source": [
    "4. What proportion of the total observations chose to accept the coupon?\n",
    "\n"
   ]
  },
  {
   "cell_type": "code",
   "execution_count": 6,
   "metadata": {
    "id": "86GGqBTv_qRI"
   },
   "outputs": [
    {
     "data": {
      "text/plain": [
       "0.5684326710816777"
      ]
     },
     "execution_count": 6,
     "metadata": {},
     "output_type": "execute_result"
    }
   ],
   "source": [
    "acceptPercent = data.query('Y ==1')['Y'].count()/data['Y'].count()\n",
    "acceptPercent"
   ]
  },
  {
   "cell_type": "markdown",
   "metadata": {
    "id": "vflz0DoE_qRI"
   },
   "source": [
    "5. Use a bar plot to visualize the `coupon` column."
   ]
  },
  {
   "cell_type": "code",
   "execution_count": 7,
   "metadata": {
    "id": "dHFh3E45_qRI"
   },
   "outputs": [
    {
     "data": {
      "text/plain": [
       "<Axes: xlabel='coupon'>"
      ]
     },
     "execution_count": 7,
     "metadata": {},
     "output_type": "execute_result"
    },
    {
     "data": {
      "image/png": "[encoded data removed]",
      "text/plain": [
       "<Figure size 640x480 with 1 Axes>"
      ]
     },
     "metadata": {},
     "output_type": "display_data"
    }
   ],
   "source": [
    "coupon = data_bar['coupon'].value_counts()\n",
    "coupon.plot(kind ='bar')"
   ]
  },
  {
   "cell_type": "markdown",
   "metadata": {
    "id": "Qw4lCyx2_qRI"
   },
   "source": [
    "6. Use a histogram to visualize the temperature column."
   ]
  },
  {
   "cell_type": "code",
   "execution_count": 8,
   "metadata": {
    "id": "Yg9Anv71_qRI"
   },
   "outputs": [
    {
     "data": {
      "text/plain": [
       "<Axes: >"
      ]
     },
     "execution_count": 8,
     "metadata": {},
     "output_type": "execute_result"
    },
    {
     "data": {
      "image/png": "[encoded data removed]",
      "text/plain": [
       "<Figure size 640x480 with 1 Axes>"
      ]
     },
     "metadata": {},
     "output_type": "display_data"
    }
   ],
   "source": [
    "data['temperature'].hist()"
   ]
  },
  {
   "cell_type": "code",
   "execution_count": null,
   "metadata": {
    "id": "zLtOaJQk_qRI"
   },
   "outputs": [],
   "source": []
  },
  {
   "cell_type": "code",
   "execution_count": null,
   "metadata": {
    "id": "7GBHZKBp_qRJ"
   },
   "outputs": [],
   "source": []
  },
  {
   "cell_type": "code",
   "execution_count": null,
   "metadata": {
    "id": "Y5nBUA-j_qRJ"
   },
   "outputs": [],
   "source": []
  },
  {
   "cell_type": "code",
   "execution_count": null,
   "metadata": {
    "id": "ShcUC-Vm_qRJ"
   },
   "outputs": [],
   "source": []
  },
  {
   "cell_type": "markdown",
   "metadata": {
    "id": "FupfgeJk_qRJ"
   },
   "source": [
    "**Investigating the Bar Coupons**\n",
    "\n",
    "Now, we will lead you through an exploration of just the bar related coupons.  \n",
    "\n",
    "1. Create a new `DataFrame` that contains just the bar coupons.\n"
   ]
  },
  {
   "cell_type": "code",
   "execution_count": 9,
   "metadata": {
    "id": "tMBlWuGq_qRJ"
   },
   "outputs": [
    {
     "data": {
      "text/html": [
       "<div>\n",
       "<style scoped>\n",
       "    .dataframe tbody tr th:only-of-type {\n",
       "        vertical-align: middle;\n",
       "    }\n",
       "\n",
       "    .dataframe tbody tr th {\n",
       "        vertical-align: top;\n",
       "    }\n",
       "\n",
       "    .dataframe thead th {\n",
       "        text-align: right;\n",
       "    }\n",
       "</style>\n",
       "<table border=\"1\" class=\"dataframe\">\n",
       "  <thead>\n",
       "    <tr style=\"text-align: right;\">\n",
       "      <th></th>\n",
       "      <th>destination</th>\n",
       "      <th>passanger</th>\n",
       "      <th>weather</th>\n",
       "      <th>temperature</th>\n",
       "      <th>time</th>\n",
       "      <th>coupon</th>\n",
       "      <th>expiration</th>\n",
       "      <th>gender</th>\n",
       "      <th>age</th>\n",
       "      <th>maritalStatus</th>\n",
       "      <th>...</th>\n",
       "      <th>CoffeeHouse</th>\n",
       "      <th>CarryAway</th>\n",
       "      <th>RestaurantLessThan20</th>\n",
       "      <th>Restaurant20To50</th>\n",
       "      <th>toCoupon_GEQ5min</th>\n",
       "      <th>toCoupon_GEQ15min</th>\n",
       "      <th>toCoupon_GEQ25min</th>\n",
       "      <th>direction_same</th>\n",
       "      <th>direction_opp</th>\n",
       "      <th>Y</th>\n",
       "    </tr>\n",
       "  </thead>\n",
       "  <tbody>\n",
       "    <tr>\n",
       "      <th>9</th>\n",
       "      <td>No Urgent Place</td>\n",
       "      <td>Kid(s)</td>\n",
       "      <td>Sunny</td>\n",
       "      <td>80</td>\n",
       "      <td>10AM</td>\n",
       "      <td>Bar</td>\n",
       "      <td>1d</td>\n",
       "      <td>Female</td>\n",
       "      <td>21</td>\n",
       "      <td>Unmarried partner</td>\n",
       "      <td>...</td>\n",
       "      <td>never</td>\n",
       "      <td>NaN</td>\n",
       "      <td>4~8</td>\n",
       "      <td>1~3</td>\n",
       "      <td>1</td>\n",
       "      <td>1</td>\n",
       "      <td>0</td>\n",
       "      <td>0</td>\n",
       "      <td>1</td>\n",
       "      <td>0</td>\n",
       "    </tr>\n",
       "    <tr>\n",
       "      <th>13</th>\n",
       "      <td>Home</td>\n",
       "      <td>Alone</td>\n",
       "      <td>Sunny</td>\n",
       "      <td>55</td>\n",
       "      <td>6PM</td>\n",
       "      <td>Bar</td>\n",
       "      <td>1d</td>\n",
       "      <td>Female</td>\n",
       "      <td>21</td>\n",
       "      <td>Unmarried partner</td>\n",
       "      <td>...</td>\n",
       "      <td>never</td>\n",
       "      <td>NaN</td>\n",
       "      <td>4~8</td>\n",
       "      <td>1~3</td>\n",
       "      <td>1</td>\n",
       "      <td>0</td>\n",
       "      <td>0</td>\n",
       "      <td>1</td>\n",
       "      <td>0</td>\n",
       "      <td>1</td>\n",
       "    </tr>\n",
       "    <tr>\n",
       "      <th>17</th>\n",
       "      <td>Work</td>\n",
       "      <td>Alone</td>\n",
       "      <td>Sunny</td>\n",
       "      <td>55</td>\n",
       "      <td>7AM</td>\n",
       "      <td>Bar</td>\n",
       "      <td>1d</td>\n",
       "      <td>Female</td>\n",
       "      <td>21</td>\n",
       "      <td>Unmarried partner</td>\n",
       "      <td>...</td>\n",
       "      <td>never</td>\n",
       "      <td>NaN</td>\n",
       "      <td>4~8</td>\n",
       "      <td>1~3</td>\n",
       "      <td>1</td>\n",
       "      <td>1</td>\n",
       "      <td>1</td>\n",
       "      <td>0</td>\n",
       "      <td>1</td>\n",
       "      <td>0</td>\n",
       "    </tr>\n",
       "    <tr>\n",
       "      <th>24</th>\n",
       "      <td>No Urgent Place</td>\n",
       "      <td>Friend(s)</td>\n",
       "      <td>Sunny</td>\n",
       "      <td>80</td>\n",
       "      <td>10AM</td>\n",
       "      <td>Bar</td>\n",
       "      <td>1d</td>\n",
       "      <td>Male</td>\n",
       "      <td>21</td>\n",
       "      <td>Single</td>\n",
       "      <td>...</td>\n",
       "      <td>less1</td>\n",
       "      <td>4~8</td>\n",
       "      <td>4~8</td>\n",
       "      <td>less1</td>\n",
       "      <td>1</td>\n",
       "      <td>0</td>\n",
       "      <td>0</td>\n",
       "      <td>0</td>\n",
       "      <td>1</td>\n",
       "      <td>1</td>\n",
       "    </tr>\n",
       "    <tr>\n",
       "      <th>35</th>\n",
       "      <td>Home</td>\n",
       "      <td>Alone</td>\n",
       "      <td>Sunny</td>\n",
       "      <td>55</td>\n",
       "      <td>6PM</td>\n",
       "      <td>Bar</td>\n",
       "      <td>1d</td>\n",
       "      <td>Male</td>\n",
       "      <td>21</td>\n",
       "      <td>Single</td>\n",
       "      <td>...</td>\n",
       "      <td>less1</td>\n",
       "      <td>4~8</td>\n",
       "      <td>4~8</td>\n",
       "      <td>less1</td>\n",
       "      <td>1</td>\n",
       "      <td>0</td>\n",
       "      <td>0</td>\n",
       "      <td>1</td>\n",
       "      <td>0</td>\n",
       "      <td>1</td>\n",
       "    </tr>\n",
       "    <tr>\n",
       "      <th>39</th>\n",
       "      <td>Work</td>\n",
       "      <td>Alone</td>\n",
       "      <td>Sunny</td>\n",
       "      <td>55</td>\n",
       "      <td>7AM</td>\n",
       "      <td>Bar</td>\n",
       "      <td>1d</td>\n",
       "      <td>Male</td>\n",
       "      <td>21</td>\n",
       "      <td>Single</td>\n",
       "      <td>...</td>\n",
       "      <td>less1</td>\n",
       "      <td>4~8</td>\n",
       "      <td>4~8</td>\n",
       "      <td>less1</td>\n",
       "      <td>1</td>\n",
       "      <td>1</td>\n",
       "      <td>1</td>\n",
       "      <td>0</td>\n",
       "      <td>1</td>\n",
       "      <td>1</td>\n",
       "    </tr>\n",
       "    <tr>\n",
       "      <th>46</th>\n",
       "      <td>No Urgent Place</td>\n",
       "      <td>Friend(s)</td>\n",
       "      <td>Sunny</td>\n",
       "      <td>80</td>\n",
       "      <td>10AM</td>\n",
       "      <td>Bar</td>\n",
       "      <td>1d</td>\n",
       "      <td>Male</td>\n",
       "      <td>46</td>\n",
       "      <td>Single</td>\n",
       "      <td>...</td>\n",
       "      <td>4~8</td>\n",
       "      <td>1~3</td>\n",
       "      <td>1~3</td>\n",
       "      <td>never</td>\n",
       "      <td>1</td>\n",
       "      <td>0</td>\n",
       "      <td>0</td>\n",
       "      <td>0</td>\n",
       "      <td>1</td>\n",
       "      <td>0</td>\n",
       "    </tr>\n",
       "    <tr>\n",
       "      <th>57</th>\n",
       "      <td>Home</td>\n",
       "      <td>Alone</td>\n",
       "      <td>Sunny</td>\n",
       "      <td>55</td>\n",
       "      <td>6PM</td>\n",
       "      <td>Bar</td>\n",
       "      <td>1d</td>\n",
       "      <td>Male</td>\n",
       "      <td>46</td>\n",
       "      <td>Single</td>\n",
       "      <td>...</td>\n",
       "      <td>4~8</td>\n",
       "      <td>1~3</td>\n",
       "      <td>1~3</td>\n",
       "      <td>never</td>\n",
       "      <td>1</td>\n",
       "      <td>0</td>\n",
       "      <td>0</td>\n",
       "      <td>1</td>\n",
       "      <td>0</td>\n",
       "      <td>0</td>\n",
       "    </tr>\n",
       "    <tr>\n",
       "      <th>61</th>\n",
       "      <td>Work</td>\n",
       "      <td>Alone</td>\n",
       "      <td>Sunny</td>\n",
       "      <td>55</td>\n",
       "      <td>7AM</td>\n",
       "      <td>Bar</td>\n",
       "      <td>1d</td>\n",
       "      <td>Male</td>\n",
       "      <td>46</td>\n",
       "      <td>Single</td>\n",
       "      <td>...</td>\n",
       "      <td>4~8</td>\n",
       "      <td>1~3</td>\n",
       "      <td>1~3</td>\n",
       "      <td>never</td>\n",
       "      <td>1</td>\n",
       "      <td>1</td>\n",
       "      <td>1</td>\n",
       "      <td>0</td>\n",
       "      <td>1</td>\n",
       "      <td>0</td>\n",
       "    </tr>\n",
       "    <tr>\n",
       "      <th>75</th>\n",
       "      <td>No Urgent Place</td>\n",
       "      <td>Kid(s)</td>\n",
       "      <td>Sunny</td>\n",
       "      <td>80</td>\n",
       "      <td>10AM</td>\n",
       "      <td>Bar</td>\n",
       "      <td>1d</td>\n",
       "      <td>Male</td>\n",
       "      <td>46</td>\n",
       "      <td>Married partner</td>\n",
       "      <td>...</td>\n",
       "      <td>1~3</td>\n",
       "      <td>1~3</td>\n",
       "      <td>1~3</td>\n",
       "      <td>less1</td>\n",
       "      <td>1</td>\n",
       "      <td>1</td>\n",
       "      <td>0</td>\n",
       "      <td>0</td>\n",
       "      <td>1</td>\n",
       "      <td>1</td>\n",
       "    </tr>\n",
       "  </tbody>\n",
       "</table>\n",
       "<p>10 rows × 26 columns</p>\n",
       "</div>"
      ],
      "text/plain": [
       "        destination  passanger weather  temperature  time coupon expiration  \\\n",
       "9   No Urgent Place     Kid(s)   Sunny           80  10AM    Bar         1d   \n",
       "13             Home      Alone   Sunny           55   6PM    Bar         1d   \n",
       "17             Work      Alone   Sunny           55   7AM    Bar         1d   \n",
       "24  No Urgent Place  Friend(s)   Sunny           80  10AM    Bar         1d   \n",
       "35             Home      Alone   Sunny           55   6PM    Bar         1d   \n",
       "39             Work      Alone   Sunny           55   7AM    Bar         1d   \n",
       "46  No Urgent Place  Friend(s)   Sunny           80  10AM    Bar         1d   \n",
       "57             Home      Alone   Sunny           55   6PM    Bar         1d   \n",
       "61             Work      Alone   Sunny           55   7AM    Bar         1d   \n",
       "75  No Urgent Place     Kid(s)   Sunny           80  10AM    Bar         1d   \n",
       "\n",
       "    gender  age      maritalStatus  ...  CoffeeHouse CarryAway  \\\n",
       "9   Female   21  Unmarried partner  ...        never       NaN   \n",
       "13  Female   21  Unmarried partner  ...        never       NaN   \n",
       "17  Female   21  Unmarried partner  ...        never       NaN   \n",
       "24    Male   21             Single  ...        less1       4~8   \n",
       "35    Male   21             Single  ...        less1       4~8   \n",
       "39    Male   21             Single  ...        less1       4~8   \n",
       "46    Male   46             Single  ...          4~8       1~3   \n",
       "57    Male   46             Single  ...          4~8       1~3   \n",
       "61    Male   46             Single  ...          4~8       1~3   \n",
       "75    Male   46    Married partner  ...          1~3       1~3   \n",
       "\n",
       "   RestaurantLessThan20 Restaurant20To50 toCoupon_GEQ5min toCoupon_GEQ15min  \\\n",
       "9                   4~8              1~3                1                 1   \n",
       "13                  4~8              1~3                1                 0   \n",
       "17                  4~8              1~3                1                 1   \n",
       "24                  4~8            less1                1                 0   \n",
       "35                  4~8            less1                1                 0   \n",
       "39                  4~8            less1                1                 1   \n",
       "46                  1~3            never                1                 0   \n",
       "57                  1~3            never                1                 0   \n",
       "61                  1~3            never                1                 1   \n",
       "75                  1~3            less1                1                 1   \n",
       "\n",
       "   toCoupon_GEQ25min direction_same direction_opp  Y  \n",
       "9                  0              0             1  0  \n",
       "13                 0              1             0  1  \n",
       "17                 1              0             1  0  \n",
       "24                 0              0             1  1  \n",
       "35                 0              1             0  1  \n",
       "39                 1              0             1  1  \n",
       "46                 0              0             1  0  \n",
       "57                 0              1             0  0  \n",
       "61                 1              0             1  0  \n",
       "75                 0              0             1  1  \n",
       "\n",
       "[10 rows x 26 columns]"
      ]
     },
     "execution_count": 9,
     "metadata": {},
     "output_type": "execute_result"
    }
   ],
   "source": [
    "\n",
    "bar_coupon_data = data_bar[data_bar['coupon'] == \"Bar\"]\n",
    "bar_coupon_data.head(10)"
   ]
  },
  {
   "cell_type": "markdown",
   "metadata": {
    "id": "8ue6uCqf_qRJ"
   },
   "source": [
    "2. What proportion of bar coupons were accepted?\n"
   ]
  },
  {
   "cell_type": "code",
   "execution_count": 10,
   "metadata": {
    "id": "hSdte8Mi_qRK"
   },
   "outputs": [
    {
     "data": {
      "text/plain": [
       "0.4103206412825651"
      ]
     },
     "execution_count": 10,
     "metadata": {},
     "output_type": "execute_result"
    }
   ],
   "source": [
    "accepted_bar_coupons = bar_coupon_data.query('Y == 1')['Y'].count()/ bar_coupon_data['Y'].count()\n",
    "accepted_bar_coupons"
   ]
  },
  {
   "cell_type": "markdown",
   "metadata": {
    "id": "85nA_iEi_qRK"
   },
   "source": [
    "3. Compare the acceptance rate between those who went to a bar 3 or fewer times a month to those who went more.\n"
   ]
  },
  {
   "cell_type": "code",
   "execution_count": 11,
   "metadata": {
    "id": "LBOrN-XM_qRK"
   },
   "outputs": [
    {
     "name": "stdout",
     "output_type": "stream",
     "text": [
      "0.37061769616026713 0.7688442211055276\n"
     ]
    }
   ],
   "source": [
    "\n",
    "lessThan3BarValues = ['never','less1','1~3']\n",
    "bar_coupon_less_than_3 = bar_coupon_data.query('Bar in @lessThan3BarValues')\n",
    "bar_coupon_less_than_3_accpt = bar_coupon_less_than_3.query('Y == 1')['Y'].count()/ bar_coupon_less_than_3['Y'].count()\n",
    "bar_coupon_more_than_3 = bar_coupon_data.query('Bar not in @lessThan3BarValues')\n",
    "bar_coupon_more_than_3_accpt = bar_coupon_more_than_3.query('Y == 1')['Y'].count()/ bar_coupon_more_than_3['Y'].count()\n",
    "print(bar_coupon_less_than_3_accpt,bar_coupon_more_than_3_accpt)"
   ]
  },
  {
   "cell_type": "markdown",
   "metadata": {
    "id": "RBgcQwH4_qRK"
   },
   "source": [
    "4. Compare the acceptance rate between drivers who go to a bar more than once a month and are over the age of 25 to the all others.  Is there a difference?\n"
   ]
  },
  {
   "cell_type": "code",
   "execution_count": 12,
   "metadata": {
    "id": "bf28bbeX_qRK"
   },
   "outputs": [
    {
     "name": "stdout",
     "output_type": "stream",
     "text": [
      "0.6952380952380952 0.3343908629441624\n"
     ]
    }
   ],
   "source": [
    "moreThanOnceBarValues = ['1~3','gt8','4~8']\n",
    "query_condition = (bar_coupon_data['Bar'].isin(moreThanOnceBarValues)) & (bar_coupon_data['age'] >25)\n",
    "bar_coupon_more_than_once_over_25 =  bar_coupon_data[query_condition]\n",
    "bar_coupon_more_than_once_over_25_accpt = bar_coupon_more_than_once_over_25.query('Y == 1')['Y'].count()/ bar_coupon_more_than_once_over_25['Y'].count()\n",
    "bar_coupon_others = bar_coupon_data[~query_condition]\n",
    "bar_coupon_others_accpt = bar_coupon_others.query('Y == 1')['Y'].count()/ bar_coupon_others['Y'].count()\n",
    "print(bar_coupon_more_than_once_over_25_accpt, bar_coupon_others_accpt)\n"
   ]
  },
  {
   "cell_type": "markdown",
   "metadata": {
    "id": "S4RKT4PJ_qRK"
   },
   "source": [
    "5. Use the same process to compare the acceptance rate between drivers who go to bars more than once a month and had passengers that were not a kid and had occupations other than farming, fishing, or forestry.\n"
   ]
  },
  {
   "cell_type": "code",
   "execution_count": 13,
   "metadata": {
    "id": "sENaI2Tg_qRK"
   },
   "outputs": [
    {
     "name": "stdout",
     "output_type": "stream",
     "text": [
      "0.7132486388384754 0.2948096885813149\n"
     ]
    }
   ],
   "source": [
    "moreThanOnceBarValues = ['1~3','gt8','4~8']\n",
    "query_condition = (bar_coupon_data['Bar'].isin(moreThanOnceBarValues)) & (bar_coupon_data['passanger'] != 'Kid(s)') &(bar_coupon_data['occupation'] != 'Farming Fishing & Forestry')\n",
    "bar_coupon_more_than_once_no_kids_not_farming =  bar_coupon_data[query_condition]\n",
    "bar_coupon_more_than_once_no_kids_not_farming_accpt = bar_coupon_more_than_once_no_kids_not_farming.query('Y == 1')['Y'].count()/ bar_coupon_more_than_once_no_kids_not_farming['Y'].count()\n",
    "bar_coupon_others = bar_coupon_data[~query_condition]\n",
    "bar_coupon_others_accpt = bar_coupon_others.query('Y == 1')['Y'].count()/ bar_coupon_others['Y'].count()\n",
    "print(bar_coupon_more_than_once_no_kids_not_farming_accpt, bar_coupon_others_accpt)\n"
   ]
  },
  {
   "cell_type": "markdown",
   "metadata": {
    "id": "n2LIUTil_qRK"
   },
   "source": [
    "6. Compare the acceptance rates between those drivers who:\n",
    "\n",
    "- go to bars more than once a month, had passengers that were not a kid, and were not widowed *OR*\n",
    "- go to bars more than once a month and are under the age of 30 *OR*\n",
    "- go to cheap restaurants more than 4 times a month and income is less than 50K.\n",
    "\n"
   ]
  },
  {
   "cell_type": "code",
   "execution_count": 14,
   "metadata": {
    "id": "aK_wEzx7_qRK"
   },
   "outputs": [
    {
     "name": "stdout",
     "output_type": "stream",
     "text": [
      "0.572639225181598\n"
     ]
    }
   ],
   "source": [
    "moreThanOnceBarValues = ['1~3','gt8','4~8']\n",
    "moreThan50kIncome = ['$100000 or More','$50000 - $62499','$75000 - $87499','$87500 - $99999','$62500 - $74999']\n",
    "bar_coupon_data['RestaurantLessThan20'].value_counts()\n",
    "moreThan4RestValues = ['gt8','4~8']\n",
    "query_condition1 = (bar_coupon_data['Bar'].isin(moreThanOnceBarValues)) & (bar_coupon_data['passanger'] != 'Kid(s)') & (bar_coupon_data['maritalStatus'] != 'Widowed') \n",
    "query_condition2 =  (bar_coupon_data['Bar'].isin(moreThanOnceBarValues)) & (bar_coupon_data['age'] < 30)\n",
    "query_condition3 =  (bar_coupon_data['RestaurantLessThan20'].isin(moreThan4RestValues)) & (bar_coupon_data['income'].isin(moreThan50kIncome))\n",
    "bar_coupon_multiple_conditions = bar_coupon_data[query_condition1 | query_condition2 | query_condition3]\n",
    "bar_coupon_multiple_accpt = bar_coupon_multiple_conditions.query('Y == 1')['Y'].count()/ bar_coupon_multiple_conditions['Y'].count()\n",
    "print(bar_coupon_multiple_accpt)\n"
   ]
  },
  {
   "cell_type": "markdown",
   "metadata": {
    "id": "v3fL3QkO_qRK"
   },
   "source": [
    "7.  Based on these observations, what do you hypothesize about drivers who accepted the bar coupons?"
   ]
  },
  {
   "cell_type": "raw",
   "metadata": {
    "id": "Y48naDFh_qRL"
   },
   "source": [
    "A total of 41% of people who received bar coupons, used them. \n",
    "People who already frequented bars often were almost double as likely to use the bar coupon (77% vs 37%).\n",
    "The rates of acceptace drops if the age of the drivers is less than 25(33% vs 70%).\n",
    "Also, if the driver is a Farming Fishing & Forestry employess or is traveling with kids, the rate reduces significantly(71% vs 29%).\n",
    "\n",
    "\n",
    "\n",
    "\n",
    "\n",
    "\n"
   ]
  },
  {
   "cell_type": "markdown",
   "metadata": {
    "id": "r4Hu1zOb_qRL"
   },
   "source": [
    "### Independent Investigation\n",
    "\n",
    "Using the bar coupon example as motivation, you are to explore one of the other coupon groups and try to determine the characteristics of passengers who accept the coupons.  "
   ]
  },
  {
   "cell_type": "code",
   "execution_count": 20,
   "metadata": {
    "id": "0c71cQhu_qRL"
   },
   "outputs": [
    {
     "data": {
      "text/plain": [
       "destination                0\n",
       "passanger                  0\n",
       "weather                    0\n",
       "temperature                0\n",
       "time                       0\n",
       "coupon                     0\n",
       "expiration                 0\n",
       "gender                     0\n",
       "age                        0\n",
       "maritalStatus              0\n",
       "has_children               0\n",
       "education                  0\n",
       "occupation                 0\n",
       "income                     0\n",
       "car                     1456\n",
       "Bar                        8\n",
       "CoffeeHouse               23\n",
       "CarryAway                 12\n",
       "RestaurantLessThan20      10\n",
       "Restaurant20To50           0\n",
       "toCoupon_GEQ5min           0\n",
       "toCoupon_GEQ15min          0\n",
       "toCoupon_GEQ25min          0\n",
       "direction_same             0\n",
       "direction_opp              0\n",
       "Y                          0\n",
       "dtype: int64"
      ]
     },
     "execution_count": 20,
     "metadata": {},
     "output_type": "execute_result"
    }
   ],
   "source": [
    "#People who received coupons for high cost restaurants\n",
    "high_cost_rest_data = data.copy()\n",
    "high_cost_rest_data = high_cost_rest_data.dropna(subset=['Restaurant20To50', 'age'])\n",
    "high_cost_rest_coupon_data = high_cost_rest_data[high_cost_rest_data['coupon'] == \"Restaurant(20-50)\"]\n",
    "high_cost_rest_coupon_data.head(10)\n",
    "high_cost_rest_coupon_data.isnull().sum()"
   ]
  },
  {
   "cell_type": "markdown",
   "metadata": {
    "id": "QEsBkvIN_qRL"
   },
   "source": [
    "\n",
    "\n",
    "\n",
    "Use the same process to compare the acceptance rate between drivers who go to bars more than once a month and had passengers that were not a kid and had occupations other than farming, fishing, or forestry.\n",
    "Compare the acceptance rates between those drivers who:\n",
    "go to bars more than once a month, had passengers that were not a kid, and were not widowed OR\n",
    "go to bars more than once a month and are under the age of 30 OR\n",
    "go to cheap restaurants more than 4 times a month and income is less than 50K.\n",
    "\n",
    "\n",
    "\n",
    "\n"
   ]
  },
  {
   "cell_type": "code",
   "execution_count": 21,
   "metadata": {
    "id": "fTC2WGE3_qRL"
   },
   "outputs": [
    {
     "name": "stdout",
     "output_type": "stream",
     "text": [
      "0.44285714285714284\n"
     ]
    }
   ],
   "source": [
    "#What proportion of HighCostRestaurant coupons were accepted?\n",
    "high_cost_rest_coupon_accpt = high_cost_rest_coupon_data.query('Y == 1')['Y'].count()/ high_cost_rest_coupon_data['Y'].count()\n",
    "print(high_cost_rest_coupon_accpt)\n",
    "\n",
    "\n"
   ]
  },
  {
   "cell_type": "code",
   "execution_count": 27,
   "metadata": {
    "id": "RrqUWn7d_qRL"
   },
   "outputs": [
    {
     "name": "stdout",
     "output_type": "stream",
     "text": [
      "0.42464736451373425 0.6422764227642277\n"
     ]
    }
   ],
   "source": [
    "#Compare the acceptance rate between those who went to a high cost restaurant 3 or fewer times a month to those who went more.\n",
    "lessThan3Values = ['never','less1','1~3']\n",
    "high_cost_rest_less_than_3 = high_cost_rest_coupon_data[high_cost_rest_coupon_data['Restaurant20To50'].isin(lessThan3Values)]\n",
    "high_cost_rest_more_than_3 = high_cost_rest_coupon_data[~high_cost_rest_coupon_data['Restaurant20To50'].isin(lessThan3Values)]\n",
    "high_cost_rest_less_than_3_accpt = high_cost_rest_less_than_3.query('Y == 1')['Y'].count()/ high_cost_rest_less_than_3['Y'].count()\n",
    "high_cost_rest_more_than_3_accpt = high_cost_rest_more_than_3.query('Y == 1')['Y'].count()/ high_cost_rest_more_than_3['Y'].count()\n",
    "print(high_cost_rest_less_than_3_accpt,high_cost_rest_more_than_3_accpt)\n",
    "\n"
   ]
  },
  {
   "cell_type": "code",
   "execution_count": 32,
   "metadata": {
    "id": "_oykf8YP_qRL"
   },
   "outputs": [
    {
     "name": "stdout",
     "output_type": "stream",
     "text": [
      "0.5412186379928315 0.41981528127623846\n"
     ]
    }
   ],
   "source": [
    "#Compare the acceptance rate between drivers who go to a high cost restaurant more than once a month and have an income of 50k or more to the all others.\n",
    "high_cost_rest_coupon_data['income'].value_counts()\n",
    "moreThankOnceValues = ['1~3','gt8','4~8']\n",
    "moreThan50kIncome = ['$100000 or More','$50000 - $62499','$75000 - $87499','$87500 - $99999','$62500 - $74999']\n",
    "more_than_3_inc_more_thank_50k_cond = (high_cost_rest_coupon_data['Restaurant20To50'].isin(moreThankOnceValues)) & (high_cost_rest_coupon_data['income'].isin(moreThan50kIncome))\n",
    "high_cost_rest_more_than_3_inc_more_than_50k = high_cost_rest_coupon_data[more_than_3_inc_more_thank_50k_cond]\n",
    "high_cost_rest_other = high_cost_rest_coupon_data[~more_than_3_inc_more_thank_50k_cond]\n",
    "high_cost_rest_more_than_3_inc_more_than_50k_accpt =  high_cost_rest_more_than_3_inc_more_than_50k.query('Y == 1')['Y'].count()/ high_cost_rest_more_than_3_inc_more_than_50k['Y'].count()\n",
    "high_cost_rest_other_accpt =  high_cost_rest_other.query('Y == 1')['Y'].count()/ high_cost_rest_other['Y'].count()\n",
    "print(high_cost_rest_more_than_3_inc_more_than_50k_accpt,high_cost_rest_other_accpt)\n"
   ]
  },
  {
   "cell_type": "code",
   "execution_count": 34,
   "metadata": {},
   "outputs": [
    {
     "name": "stdout",
     "output_type": "stream",
     "text": [
      "0.5756207674943566 0.38558909444985395\n"
     ]
    }
   ],
   "source": [
    "#Use the same process to compare the acceptance rate between drivers who go to high cost restaurant  more than once a month and had passengers that were not a kid and had occupations other than farming, fishing, or forestry.\n",
    "\n",
    "moreThankOnceValues = ['1~3','gt8','4~8']\n",
    "query_condition = (high_cost_rest_coupon_data['Restaurant20To50'].isin(moreThankOnceValues)) & (high_cost_rest_coupon_data['passanger'] != 'Kid(s)') &(high_cost_rest_coupon_data['occupation'] != 'Farming Fishing & Forestry')\n",
    "high_cost_res_coupon_more_than_once_no_kids_not_farming =  high_cost_rest_coupon_data[query_condition]\n",
    "high_cost_res_coupon_more_than_once_no_kids_not_farming_accpt = high_cost_res_coupon_more_than_once_no_kids_not_farming.query('Y == 1')['Y'].count()/ high_cost_res_coupon_more_than_once_no_kids_not_farming['Y'].count()\n",
    "high_cost_res_coupon_others = high_cost_rest_coupon_data[~query_condition]\n",
    "high_cost_res_coupon_others_accpt = high_cost_res_coupon_others.query('Y == 1')['Y'].count()/ high_cost_res_coupon_others['Y'].count()\n",
    "print(high_cost_res_coupon_more_than_once_no_kids_not_farming_accpt, high_cost_res_coupon_others_accpt)\n",
    "\n",
    "\n",
    "\n",
    "\n",
    "\n",
    "\n"
   ]
  },
  {
   "cell_type": "code",
   "execution_count": 36,
   "metadata": {},
   "outputs": [
    {
     "name": "stdout",
     "output_type": "stream",
     "text": [
      "0.5465465465465466 0.4124890061565523\n"
     ]
    }
   ],
   "source": [
    "#Use the same process to compare the acceptance rate between drivers who go to high cost restaurant  more than once a month and had no passengers and had occupations other than farming, fishing, or forestry.\n",
    "\n",
    "\n",
    "moreThankOnceValues = ['1~3','gt8','4~8']\n",
    "query_condition = (high_cost_rest_coupon_data['Restaurant20To50'].isin(moreThankOnceValues)) & (high_cost_rest_coupon_data['passanger'] == 'Alone') &(high_cost_rest_coupon_data['occupation'] != 'Farming Fishing & Forestry')\n",
    "\n",
    "\n",
    "high_cost_res_coupon_more_than_once_alone_not_farming =  high_cost_rest_coupon_data[query_condition]\n",
    "high_cost_res_coupon_more_than_once_alone_not_farming_accpt = high_cost_res_coupon_more_than_once_alone_not_farming.query('Y == 1')['Y'].count()/ high_cost_res_coupon_more_than_once_alone_not_farming['Y'].count()\n",
    "high_cost_res_coupon_others = high_cost_rest_coupon_data[~query_condition]\n",
    "high_cost_res_coupon_others_accpt = high_cost_res_coupon_others.query('Y == 1')['Y'].count()/ high_cost_res_coupon_others['Y'].count()\n",
    "print(high_cost_res_coupon_more_than_once_alone_not_farming_accpt, high_cost_res_coupon_others_accpt)\n",
    "\n",
    "\n",
    "\n"
   ]
  },
  {
   "cell_type": "code",
   "execution_count": 45,
   "metadata": {},
   "outputs": [
    {
     "name": "stdout",
     "output_type": "stream",
     "text": [
      "0.7692307692307693 0.4308885754583921\n"
     ]
    }
   ],
   "source": [
    "#Use the same process to compare the acceptance rate between drivers who go to high cost restaurant  more than once a month and had no kid passengers but were not traveling alone and had occupations other than farming, fishing, or forestry.\n",
    "\n",
    "\n",
    "moreThankOnceValues = ['1~3','gt8','4~8']\n",
    "notKidsOrAloneValues = ['Friends','Partner']\n",
    "\n",
    "query_condition = (high_cost_rest_coupon_data['Restaurant20To50'].isin(moreThankOnceValues)) & (high_cost_rest_coupon_data['passanger'].isin(notKidsOrAloneValues)) &(high_cost_rest_coupon_data['occupation'] != 'Farming Fishing & Forestry')\n",
    "\n",
    "high_cost_res_coupon_more_than_once_not_alone_no_kids_not_farming =  high_cost_rest_coupon_data[query_condition]\n",
    "high_cost_res_coupon_more_than_once_not_alone_no_kids_not_farming_accpt = high_cost_res_coupon_more_than_once_not_alone_no_kids_not_farming.query('Y == 1')['Y'].count()/ high_cost_res_coupon_more_than_once_not_alone_no_kids_not_farming['Y'].count()\n",
    "high_cost_res_coupon_others = high_cost_rest_coupon_data[~query_condition]\n",
    "high_cost_res_coupon_others_accpt = high_cost_res_coupon_others.query('Y == 1')['Y'].count()/ high_cost_res_coupon_others['Y'].count()\n",
    "print(high_cost_res_coupon_more_than_once_not_alone_no_kids_not_farming_accpt, high_cost_res_coupon_others_accpt)\n",
    "\n",
    "\n"
   ]
  },
  {
   "cell_type": "code",
   "execution_count": 46,
   "metadata": {},
   "outputs": [
    {
     "name": "stdout",
     "output_type": "stream",
     "text": [
      "0.5739130434782609 0.4317343173431734\n"
     ]
    }
   ],
   "source": [
    "#Use the same process to compare the acceptance rate between drivers who go to high cost restaurant  more than once a month  but were not traveling alone and had occupations other than farming, fishing, or forestry.\n",
    "\n",
    "\n",
    "moreThankOnceValues = ['1~3','gt8','4~8']\n",
    "notAloneValues = ['Friends','Partner','Kid(s)']\n",
    "\n",
    "query_condition = (high_cost_rest_coupon_data['Restaurant20To50'].isin(moreThankOnceValues)) & (high_cost_rest_coupon_data['passanger'].isin(notAloneValues)) &(high_cost_rest_coupon_data['occupation'] != 'Farming Fishing & Forestry')\n",
    "\n",
    "high_cost_res_coupon_more_than_once_not_alone_not_farming =  high_cost_rest_coupon_data[query_condition]\n",
    "high_cost_res_coupon_more_than_once_not_alone_not_farming_accpt = high_cost_res_coupon_more_than_once_not_alone_not_farming.query('Y == 1')['Y'].count()/ high_cost_res_coupon_more_than_once_not_alone_not_farming['Y'].count()\n",
    "high_cost_res_coupon_others = high_cost_rest_coupon_data[~query_condition]\n",
    "high_cost_res_coupon_others_accpt = high_cost_res_coupon_others.query('Y == 1')['Y'].count()/ high_cost_res_coupon_others['Y'].count()\n",
    "print(high_cost_res_coupon_more_than_once_not_alone_not_farming_accpt, high_cost_res_coupon_others_accpt)\n",
    "\n",
    "\n"
   ]
  },
  {
   "cell_type": "code",
   "execution_count": 58,
   "metadata": {},
   "outputs": [
    {
     "name": "stdout",
     "output_type": "stream",
     "text": [
      "<class 'pandas.core.frame.DataFrame'>\n",
      "RangeIndex: 6 entries, 0 to 5\n",
      "Data columns (total 2 columns):\n",
      " #   Column           Non-Null Count  Dtype  \n",
      "---  ------           --------------  -----  \n",
      " 0   Catagory         6 non-null      object \n",
      " 1   Acceptance_Rate  6 non-null      float64\n",
      "dtypes: float64(1), object(1)\n",
      "memory usage: 228.0+ bytes\n"
     ]
    },
    {
     "data": {
      "text/plain": [
       "<Axes: xlabel='Catagory'>"
      ]
     },
     "execution_count": 58,
     "metadata": {},
     "output_type": "execute_result"
    },
    {
     "data": {
      "image/png": "[encoded data removed]",
      "text/plain": [
       "<Figure size 640x480 with 1 Axes>"
      ]
     },
     "metadata": {},
     "output_type": "display_data"
    }
   ],
   "source": [
    "AcceptancedDataDict = {\n",
    "    'Catagory': ['HighCostRestaurant', 'HighCostRestaurantMorethan3', 'HighCostRestaurantHighIncomeMoreThanOnce', 'HighCostRestaurantMoreThanOnceNoKidsNotFarming', 'HighCostRestaurantMoreThanOnceAloneNotFarming','HighCostRestaurantMoreThanOnceNotAloneNoKidsNotFarming'],\n",
    "    'Acceptance_Rate': [high_cost_rest_coupon_accpt, high_cost_rest_more_than_3_accpt, high_cost_rest_more_than_3_inc_more_than_50k_accpt, high_cost_res_coupon_more_than_once_no_kids_not_farming_accpt, high_cost_res_coupon_more_than_once_alone_not_farming_accpt,high_cost_res_coupon_more_than_once_not_alone_no_kids_not_farming_accpt]\n",
    "}\n",
    "AcceptancedData = pd.DataFrame(AcceptancedDataDict)\n",
    "AcceptancedData['Acceptance_Rate'] = AcceptancedData['Acceptance_Rate'].astype(float)\n",
    "AcceptancedData.info()\n",
    "AcceptancedData.head()\n",
    "AcceptancedData.plot(kind ='bar', x = 'Catagory')\n"
   ]
  },
  {
   "cell_type": "markdown",
   "metadata": {},
   "source": [
    "The above plot makes it very apparent that people who travel with a passenger but no kids, and are not working in the Farming Fishing & Forestry industry and who already visits expensive retaurants more than once a month tend to accept the coupons more(77%). They are folloed closely by people who goes to expensive restaurants more than 3 times a month(64%)."
   ]
  },
  {
   "cell_type": "code",
   "execution_count": null,
   "metadata": {},
   "outputs": [],
   "source": []
  }
 ],
 "metadata": {
  "colab": {
   "provenance": []
  },
  "kernelspec": {
   "display_name": "Python [conda env:base] *",
   "language": "python",
   "name": "conda-base-py"
  },
  "language_info": {
   "codemirror_mode": {
    "name": "ipython",
    "version": 3
   },
   "file_extension": ".py",
   "mimetype": "text/x-python",
   "name": "python",
   "nbconvert_exporter": "python",
   "pygments_lexer": "ipython3",
   "version": "3.12.7"
  }
 },
 "nbformat": 4,
 "nbformat_minor": 4
}
